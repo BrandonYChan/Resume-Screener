{
 "cells": [
  {
   "cell_type": "markdown",
   "metadata": {
    "id": "qLeFxUoGSmdS"
   },
   "source": [
    "# Resume Classifier Project\n",
    "\n",
    "\n",
    "\n"
   ]
  },
  {
   "cell_type": "markdown",
   "metadata": {
    "id": "DO9jf5qxSvth"
   },
   "source": [
    "## Imports"
   ]
  },
  {
   "cell_type": "code",
   "execution_count": 1,
   "metadata": {
    "id": "g1TdEi5pSV_S"
   },
   "outputs": [
    {
     "name": "stdout",
     "output_type": "stream",
     "text": [
      "Requirement already satisfied: PyPDF2 in c:\\users\\bchan\\appdata\\local\\packages\\pythonsoftwarefoundation.python.3.11_qbz5n2kfra8p0\\localcache\\local-packages\\python311\\site-packages (3.0.1)\n"
     ]
    },
    {
     "name": "stderr",
     "output_type": "stream",
     "text": [
      "Error processing line 1 of C:\\Users\\bchan\\AppData\\Local\\Packages\\PythonSoftwareFoundation.Python.3.11_qbz5n2kfra8p0\\LocalCache\\local-packages\\Python311\\site-packages\\vision-1.0.0-py3.11-nspkg.pth:\n",
      "\n",
      "  Traceback (most recent call last):\n",
      "    File \"<frozen site>\", line 195, in addpackage\n",
      "    File \"<string>\", line 1, in <module>\n",
      "    File \"<frozen importlib._bootstrap>\", line 570, in module_from_spec\n",
      "  AttributeError: 'NoneType' object has no attribute 'loader'\n",
      "\n",
      "Remainder of file ignored\n",
      "WARNING: Ignoring invalid distribution ~cikit-learn (C:\\Users\\bchan\\AppData\\Local\\Packages\\PythonSoftwareFoundation.Python.3.11_qbz5n2kfra8p0\\LocalCache\\local-packages\\Python311\\site-packages)\n",
      "WARNING: Ignoring invalid distribution ~cikit-learn (C:\\Users\\bchan\\AppData\\Local\\Packages\\PythonSoftwareFoundation.Python.3.11_qbz5n2kfra8p0\\LocalCache\\local-packages\\Python311\\site-packages)\n",
      "WARNING: Ignoring invalid distribution ~cikit-learn (C:\\Users\\bchan\\AppData\\Local\\Packages\\PythonSoftwareFoundation.Python.3.11_qbz5n2kfra8p0\\LocalCache\\local-packages\\Python311\\site-packages)\n",
      "WARNING: Ignoring invalid distribution ~cikit-learn (C:\\Users\\bchan\\AppData\\Local\\Packages\\PythonSoftwareFoundation.Python.3.11_qbz5n2kfra8p0\\LocalCache\\local-packages\\Python311\\site-packages)\n",
      "\n",
      "[notice] A new release of pip is available: 25.0.1 -> 25.2\n",
      "[notice] To update, run: C:\\Users\\bchan\\AppData\\Local\\Microsoft\\WindowsApps\\PythonSoftwareFoundation.Python.3.11_qbz5n2kfra8p0\\python.exe -m pip install --upgrade pip\n"
     ]
    },
    {
     "name": "stdout",
     "output_type": "stream",
     "text": [
      "Collecting gradio-pdf\n",
      "  Downloading gradio_pdf-0.0.22-py3-none-any.whl.metadata (11 kB)\n",
      "Requirement already satisfied: gradio<6.0,>=4.0 in c:\\users\\bchan\\appdata\\local\\packages\\pythonsoftwarefoundation.python.3.11_qbz5n2kfra8p0\\localcache\\local-packages\\python311\\site-packages (from gradio-pdf) (4.39.0)\n",
      "Requirement already satisfied: aiofiles<24.0,>=22.0 in c:\\users\\bchan\\appdata\\local\\packages\\pythonsoftwarefoundation.python.3.11_qbz5n2kfra8p0\\localcache\\local-packages\\python311\\site-packages (from gradio<6.0,>=4.0->gradio-pdf) (23.2.1)\n",
      "Requirement already satisfied: anyio<5.0,>=3.0 in c:\\users\\bchan\\appdata\\local\\packages\\pythonsoftwarefoundation.python.3.11_qbz5n2kfra8p0\\localcache\\local-packages\\python311\\site-packages (from gradio<6.0,>=4.0->gradio-pdf) (4.3.0)\n",
      "Requirement already satisfied: fastapi in c:\\users\\bchan\\appdata\\local\\packages\\pythonsoftwarefoundation.python.3.11_qbz5n2kfra8p0\\localcache\\local-packages\\python311\\site-packages (from gradio<6.0,>=4.0->gradio-pdf) (0.111.1)\n",
      "Requirement already satisfied: ffmpy in c:\\users\\bchan\\appdata\\local\\packages\\pythonsoftwarefoundation.python.3.11_qbz5n2kfra8p0\\localcache\\local-packages\\python311\\site-packages (from gradio<6.0,>=4.0->gradio-pdf) (0.3.2)\n",
      "Requirement already satisfied: gradio-client==1.1.1 in c:\\users\\bchan\\appdata\\local\\packages\\pythonsoftwarefoundation.python.3.11_qbz5n2kfra8p0\\localcache\\local-packages\\python311\\site-packages (from gradio<6.0,>=4.0->gradio-pdf) (1.1.1)\n",
      "Requirement already satisfied: httpx>=0.24.1 in c:\\users\\bchan\\appdata\\local\\packages\\pythonsoftwarefoundation.python.3.11_qbz5n2kfra8p0\\localcache\\local-packages\\python311\\site-packages (from gradio<6.0,>=4.0->gradio-pdf) (0.27.0)\n",
      "Requirement already satisfied: huggingface-hub>=0.19.3 in c:\\users\\bchan\\appdata\\local\\packages\\pythonsoftwarefoundation.python.3.11_qbz5n2kfra8p0\\localcache\\local-packages\\python311\\site-packages (from gradio<6.0,>=4.0->gradio-pdf) (0.29.3)\n",
      "Requirement already satisfied: importlib-resources<7.0,>=1.3 in c:\\users\\bchan\\appdata\\local\\packages\\pythonsoftwarefoundation.python.3.11_qbz5n2kfra8p0\\localcache\\local-packages\\python311\\site-packages (from gradio<6.0,>=4.0->gradio-pdf) (6.4.0)\n",
      "Requirement already satisfied: jinja2<4.0 in c:\\users\\bchan\\appdata\\local\\packages\\pythonsoftwarefoundation.python.3.11_qbz5n2kfra8p0\\localcache\\local-packages\\python311\\site-packages (from gradio<6.0,>=4.0->gradio-pdf) (3.1.3)\n",
      "Requirement already satisfied: markupsafe~=2.0 in c:\\users\\bchan\\appdata\\local\\packages\\pythonsoftwarefoundation.python.3.11_qbz5n2kfra8p0\\localcache\\local-packages\\python311\\site-packages (from gradio<6.0,>=4.0->gradio-pdf) (2.1.5)\n",
      "Requirement already satisfied: matplotlib~=3.0 in c:\\users\\bchan\\appdata\\local\\packages\\pythonsoftwarefoundation.python.3.11_qbz5n2kfra8p0\\localcache\\local-packages\\python311\\site-packages (from gradio<6.0,>=4.0->gradio-pdf) (3.8.3)\n",
      "Requirement already satisfied: numpy<3.0,>=1.0 in c:\\users\\bchan\\appdata\\local\\packages\\pythonsoftwarefoundation.python.3.11_qbz5n2kfra8p0\\localcache\\local-packages\\python311\\site-packages (from gradio<6.0,>=4.0->gradio-pdf) (1.26.4)\n",
      "Requirement already satisfied: orjson~=3.0 in c:\\users\\bchan\\appdata\\local\\packages\\pythonsoftwarefoundation.python.3.11_qbz5n2kfra8p0\\localcache\\local-packages\\python311\\site-packages (from gradio<6.0,>=4.0->gradio-pdf) (3.10.6)\n",
      "Requirement already satisfied: packaging in c:\\users\\bchan\\appdata\\local\\packages\\pythonsoftwarefoundation.python.3.11_qbz5n2kfra8p0\\localcache\\local-packages\\python311\\site-packages (from gradio<6.0,>=4.0->gradio-pdf) (23.2)\n",
      "Requirement already satisfied: pandas<3.0,>=1.0 in c:\\users\\bchan\\appdata\\local\\packages\\pythonsoftwarefoundation.python.3.11_qbz5n2kfra8p0\\localcache\\local-packages\\python311\\site-packages (from gradio<6.0,>=4.0->gradio-pdf) (2.2.2)\n",
      "Requirement already satisfied: pillow<11.0,>=8.0 in c:\\users\\bchan\\appdata\\local\\packages\\pythonsoftwarefoundation.python.3.11_qbz5n2kfra8p0\\localcache\\local-packages\\python311\\site-packages (from gradio<6.0,>=4.0->gradio-pdf) (10.2.0)\n",
      "Requirement already satisfied: pydantic>=2.0 in c:\\users\\bchan\\appdata\\local\\packages\\pythonsoftwarefoundation.python.3.11_qbz5n2kfra8p0\\localcache\\local-packages\\python311\\site-packages (from gradio<6.0,>=4.0->gradio-pdf) (2.8.2)\n",
      "Requirement already satisfied: pydub in c:\\users\\bchan\\appdata\\local\\packages\\pythonsoftwarefoundation.python.3.11_qbz5n2kfra8p0\\localcache\\local-packages\\python311\\site-packages (from gradio<6.0,>=4.0->gradio-pdf) (0.25.1)\n",
      "Requirement already satisfied: python-multipart>=0.0.9 in c:\\users\\bchan\\appdata\\local\\packages\\pythonsoftwarefoundation.python.3.11_qbz5n2kfra8p0\\localcache\\local-packages\\python311\\site-packages (from gradio<6.0,>=4.0->gradio-pdf) (0.0.9)\n",
      "Requirement already satisfied: pyyaml<7.0,>=5.0 in c:\\users\\bchan\\appdata\\local\\packages\\pythonsoftwarefoundation.python.3.11_qbz5n2kfra8p0\\localcache\\local-packages\\python311\\site-packages (from gradio<6.0,>=4.0->gradio-pdf) (6.0.1)\n",
      "Requirement already satisfied: ruff>=0.2.2 in c:\\users\\bchan\\appdata\\local\\packages\\pythonsoftwarefoundation.python.3.11_qbz5n2kfra8p0\\localcache\\local-packages\\python311\\site-packages (from gradio<6.0,>=4.0->gradio-pdf) (0.5.5)\n",
      "Requirement already satisfied: semantic-version~=2.0 in c:\\users\\bchan\\appdata\\local\\packages\\pythonsoftwarefoundation.python.3.11_qbz5n2kfra8p0\\localcache\\local-packages\\python311\\site-packages (from gradio<6.0,>=4.0->gradio-pdf) (2.10.0)\n",
      "Requirement already satisfied: tomlkit==0.12.0 in c:\\users\\bchan\\appdata\\local\\packages\\pythonsoftwarefoundation.python.3.11_qbz5n2kfra8p0\\localcache\\local-packages\\python311\\site-packages (from gradio<6.0,>=4.0->gradio-pdf) (0.12.0)\n",
      "Requirement already satisfied: typer<1.0,>=0.12 in c:\\users\\bchan\\appdata\\local\\packages\\pythonsoftwarefoundation.python.3.11_qbz5n2kfra8p0\\localcache\\local-packages\\python311\\site-packages (from gradio<6.0,>=4.0->gradio-pdf) (0.12.3)\n",
      "Requirement already satisfied: typing-extensions~=4.0 in c:\\users\\bchan\\appdata\\local\\packages\\pythonsoftwarefoundation.python.3.11_qbz5n2kfra8p0\\localcache\\local-packages\\python311\\site-packages (from gradio<6.0,>=4.0->gradio-pdf) (4.12.2)\n",
      "Requirement already satisfied: urllib3~=2.0 in c:\\users\\bchan\\appdata\\local\\packages\\pythonsoftwarefoundation.python.3.11_qbz5n2kfra8p0\\localcache\\local-packages\\python311\\site-packages (from gradio<6.0,>=4.0->gradio-pdf) (2.2.1)\n",
      "Requirement already satisfied: uvicorn>=0.14.0 in c:\\users\\bchan\\appdata\\local\\packages\\pythonsoftwarefoundation.python.3.11_qbz5n2kfra8p0\\localcache\\local-packages\\python311\\site-packages (from gradio<6.0,>=4.0->gradio-pdf) (0.30.3)\n",
      "Requirement already satisfied: fsspec in c:\\users\\bchan\\appdata\\local\\packages\\pythonsoftwarefoundation.python.3.11_qbz5n2kfra8p0\\localcache\\local-packages\\python311\\site-packages (from gradio-client==1.1.1->gradio<6.0,>=4.0->gradio-pdf) (2024.6.1)\n",
      "Requirement already satisfied: websockets<12.0,>=10.0 in c:\\users\\bchan\\appdata\\local\\packages\\pythonsoftwarefoundation.python.3.11_qbz5n2kfra8p0\\localcache\\local-packages\\python311\\site-packages (from gradio-client==1.1.1->gradio<6.0,>=4.0->gradio-pdf) (11.0.3)\n",
      "Requirement already satisfied: idna>=2.8 in c:\\users\\bchan\\appdata\\local\\packages\\pythonsoftwarefoundation.python.3.11_qbz5n2kfra8p0\\localcache\\local-packages\\python311\\site-packages (from anyio<5.0,>=3.0->gradio<6.0,>=4.0->gradio-pdf) (3.6)\n",
      "Requirement already satisfied: sniffio>=1.1 in c:\\users\\bchan\\appdata\\local\\packages\\pythonsoftwarefoundation.python.3.11_qbz5n2kfra8p0\\localcache\\local-packages\\python311\\site-packages (from anyio<5.0,>=3.0->gradio<6.0,>=4.0->gradio-pdf) (1.3.1)\n",
      "Requirement already satisfied: certifi in c:\\users\\bchan\\appdata\\local\\packages\\pythonsoftwarefoundation.python.3.11_qbz5n2kfra8p0\\localcache\\local-packages\\python311\\site-packages (from httpx>=0.24.1->gradio<6.0,>=4.0->gradio-pdf) (2023.11.17)\n",
      "Requirement already satisfied: httpcore==1.* in c:\\users\\bchan\\appdata\\local\\packages\\pythonsoftwarefoundation.python.3.11_qbz5n2kfra8p0\\localcache\\local-packages\\python311\\site-packages (from httpx>=0.24.1->gradio<6.0,>=4.0->gradio-pdf) (1.0.4)\n",
      "Requirement already satisfied: h11<0.15,>=0.13 in c:\\users\\bchan\\appdata\\local\\packages\\pythonsoftwarefoundation.python.3.11_qbz5n2kfra8p0\\localcache\\local-packages\\python311\\site-packages (from httpcore==1.*->httpx>=0.24.1->gradio<6.0,>=4.0->gradio-pdf) (0.14.0)\n",
      "Requirement already satisfied: filelock in c:\\users\\bchan\\appdata\\local\\packages\\pythonsoftwarefoundation.python.3.11_qbz5n2kfra8p0\\localcache\\local-packages\\python311\\site-packages (from huggingface-hub>=0.19.3->gradio<6.0,>=4.0->gradio-pdf) (3.15.4)\n",
      "Requirement already satisfied: requests in c:\\users\\bchan\\appdata\\local\\packages\\pythonsoftwarefoundation.python.3.11_qbz5n2kfra8p0\\localcache\\local-packages\\python311\\site-packages (from huggingface-hub>=0.19.3->gradio<6.0,>=4.0->gradio-pdf) (2.32.3)\n",
      "Requirement already satisfied: tqdm>=4.42.1 in c:\\users\\bchan\\appdata\\local\\packages\\pythonsoftwarefoundation.python.3.11_qbz5n2kfra8p0\\localcache\\local-packages\\python311\\site-packages (from huggingface-hub>=0.19.3->gradio<6.0,>=4.0->gradio-pdf) (4.67.1)\n",
      "Requirement already satisfied: contourpy>=1.0.1 in c:\\users\\bchan\\appdata\\local\\packages\\pythonsoftwarefoundation.python.3.11_qbz5n2kfra8p0\\localcache\\local-packages\\python311\\site-packages (from matplotlib~=3.0->gradio<6.0,>=4.0->gradio-pdf) (1.2.0)\n",
      "Requirement already satisfied: cycler>=0.10 in c:\\users\\bchan\\appdata\\local\\packages\\pythonsoftwarefoundation.python.3.11_qbz5n2kfra8p0\\localcache\\local-packages\\python311\\site-packages (from matplotlib~=3.0->gradio<6.0,>=4.0->gradio-pdf) (0.12.1)\n",
      "Requirement already satisfied: fonttools>=4.22.0 in c:\\users\\bchan\\appdata\\local\\packages\\pythonsoftwarefoundation.python.3.11_qbz5n2kfra8p0\\localcache\\local-packages\\python311\\site-packages (from matplotlib~=3.0->gradio<6.0,>=4.0->gradio-pdf) (4.49.0)\n",
      "Requirement already satisfied: kiwisolver>=1.3.1 in c:\\users\\bchan\\appdata\\local\\packages\\pythonsoftwarefoundation.python.3.11_qbz5n2kfra8p0\\localcache\\local-packages\\python311\\site-packages (from matplotlib~=3.0->gradio<6.0,>=4.0->gradio-pdf) (1.4.5)\n",
      "Requirement already satisfied: pyparsing>=2.3.1 in c:\\users\\bchan\\appdata\\local\\packages\\pythonsoftwarefoundation.python.3.11_qbz5n2kfra8p0\\localcache\\local-packages\\python311\\site-packages (from matplotlib~=3.0->gradio<6.0,>=4.0->gradio-pdf) (3.1.1)\n",
      "Requirement already satisfied: python-dateutil>=2.7 in c:\\users\\bchan\\appdata\\local\\packages\\pythonsoftwarefoundation.python.3.11_qbz5n2kfra8p0\\localcache\\local-packages\\python311\\site-packages (from matplotlib~=3.0->gradio<6.0,>=4.0->gradio-pdf) (2.8.2)\n",
      "Requirement already satisfied: pytz>=2020.1 in c:\\users\\bchan\\appdata\\local\\packages\\pythonsoftwarefoundation.python.3.11_qbz5n2kfra8p0\\localcache\\local-packages\\python311\\site-packages (from pandas<3.0,>=1.0->gradio<6.0,>=4.0->gradio-pdf) (2024.1)\n",
      "Requirement already satisfied: tzdata>=2022.7 in c:\\users\\bchan\\appdata\\local\\packages\\pythonsoftwarefoundation.python.3.11_qbz5n2kfra8p0\\localcache\\local-packages\\python311\\site-packages (from pandas<3.0,>=1.0->gradio<6.0,>=4.0->gradio-pdf) (2024.1)\n",
      "Requirement already satisfied: annotated-types>=0.4.0 in c:\\users\\bchan\\appdata\\local\\packages\\pythonsoftwarefoundation.python.3.11_qbz5n2kfra8p0\\localcache\\local-packages\\python311\\site-packages (from pydantic>=2.0->gradio<6.0,>=4.0->gradio-pdf) (0.7.0)\n",
      "Requirement already satisfied: pydantic-core==2.20.1 in c:\\users\\bchan\\appdata\\local\\packages\\pythonsoftwarefoundation.python.3.11_qbz5n2kfra8p0\\localcache\\local-packages\\python311\\site-packages (from pydantic>=2.0->gradio<6.0,>=4.0->gradio-pdf) (2.20.1)\n",
      "Requirement already satisfied: click>=8.0.0 in c:\\users\\bchan\\appdata\\local\\packages\\pythonsoftwarefoundation.python.3.11_qbz5n2kfra8p0\\localcache\\local-packages\\python311\\site-packages (from typer<1.0,>=0.12->gradio<6.0,>=4.0->gradio-pdf) (8.1.7)\n",
      "Requirement already satisfied: shellingham>=1.3.0 in c:\\users\\bchan\\appdata\\local\\packages\\pythonsoftwarefoundation.python.3.11_qbz5n2kfra8p0\\localcache\\local-packages\\python311\\site-packages (from typer<1.0,>=0.12->gradio<6.0,>=4.0->gradio-pdf) (1.5.4)\n",
      "Requirement already satisfied: rich>=10.11.0 in c:\\users\\bchan\\appdata\\local\\packages\\pythonsoftwarefoundation.python.3.11_qbz5n2kfra8p0\\localcache\\local-packages\\python311\\site-packages (from typer<1.0,>=0.12->gradio<6.0,>=4.0->gradio-pdf) (13.7.1)\n",
      "Requirement already satisfied: starlette<0.38.0,>=0.37.2 in c:\\users\\bchan\\appdata\\local\\packages\\pythonsoftwarefoundation.python.3.11_qbz5n2kfra8p0\\localcache\\local-packages\\python311\\site-packages (from fastapi->gradio<6.0,>=4.0->gradio-pdf) (0.37.2)\n",
      "Requirement already satisfied: fastapi-cli>=0.0.2 in c:\\users\\bchan\\appdata\\local\\packages\\pythonsoftwarefoundation.python.3.11_qbz5n2kfra8p0\\localcache\\local-packages\\python311\\site-packages (from fastapi->gradio<6.0,>=4.0->gradio-pdf) (0.0.4)\n",
      "Requirement already satisfied: email_validator>=2.0.0 in c:\\users\\bchan\\appdata\\local\\packages\\pythonsoftwarefoundation.python.3.11_qbz5n2kfra8p0\\localcache\\local-packages\\python311\\site-packages (from fastapi->gradio<6.0,>=4.0->gradio-pdf) (2.2.0)\n",
      "Requirement already satisfied: colorama in c:\\users\\bchan\\appdata\\local\\packages\\pythonsoftwarefoundation.python.3.11_qbz5n2kfra8p0\\localcache\\local-packages\\python311\\site-packages (from click>=8.0.0->typer<1.0,>=0.12->gradio<6.0,>=4.0->gradio-pdf) (0.4.6)\n",
      "Requirement already satisfied: dnspython>=2.0.0 in c:\\users\\bchan\\appdata\\local\\packages\\pythonsoftwarefoundation.python.3.11_qbz5n2kfra8p0\\localcache\\local-packages\\python311\\site-packages (from email_validator>=2.0.0->fastapi->gradio<6.0,>=4.0->gradio-pdf) (2.6.1)\n",
      "Requirement already satisfied: six>=1.5 in c:\\users\\bchan\\appdata\\local\\packages\\pythonsoftwarefoundation.python.3.11_qbz5n2kfra8p0\\localcache\\local-packages\\python311\\site-packages (from python-dateutil>=2.7->matplotlib~=3.0->gradio<6.0,>=4.0->gradio-pdf) (1.16.0)\n",
      "Requirement already satisfied: markdown-it-py>=2.2.0 in c:\\users\\bchan\\appdata\\local\\packages\\pythonsoftwarefoundation.python.3.11_qbz5n2kfra8p0\\localcache\\local-packages\\python311\\site-packages (from rich>=10.11.0->typer<1.0,>=0.12->gradio<6.0,>=4.0->gradio-pdf) (3.0.0)\n",
      "Requirement already satisfied: pygments<3.0.0,>=2.13.0 in c:\\users\\bchan\\appdata\\local\\packages\\pythonsoftwarefoundation.python.3.11_qbz5n2kfra8p0\\localcache\\local-packages\\python311\\site-packages (from rich>=10.11.0->typer<1.0,>=0.12->gradio<6.0,>=4.0->gradio-pdf) (2.17.2)\n",
      "Requirement already satisfied: httptools>=0.5.0 in c:\\users\\bchan\\appdata\\local\\packages\\pythonsoftwarefoundation.python.3.11_qbz5n2kfra8p0\\localcache\\local-packages\\python311\\site-packages (from uvicorn[standard]>=0.12.0->fastapi->gradio<6.0,>=4.0->gradio-pdf) (0.6.1)\n",
      "Requirement already satisfied: python-dotenv>=0.13 in c:\\users\\bchan\\appdata\\local\\packages\\pythonsoftwarefoundation.python.3.11_qbz5n2kfra8p0\\localcache\\local-packages\\python311\\site-packages (from uvicorn[standard]>=0.12.0->fastapi->gradio<6.0,>=4.0->gradio-pdf) (1.0.1)\n",
      "Requirement already satisfied: watchfiles>=0.13 in c:\\users\\bchan\\appdata\\local\\packages\\pythonsoftwarefoundation.python.3.11_qbz5n2kfra8p0\\localcache\\local-packages\\python311\\site-packages (from uvicorn[standard]>=0.12.0->fastapi->gradio<6.0,>=4.0->gradio-pdf) (0.22.0)\n",
      "Requirement already satisfied: charset-normalizer<4,>=2 in c:\\users\\bchan\\appdata\\local\\packages\\pythonsoftwarefoundation.python.3.11_qbz5n2kfra8p0\\localcache\\local-packages\\python311\\site-packages (from requests->huggingface-hub>=0.19.3->gradio<6.0,>=4.0->gradio-pdf) (3.3.2)\n",
      "Requirement already satisfied: mdurl~=0.1 in c:\\users\\bchan\\appdata\\local\\packages\\pythonsoftwarefoundation.python.3.11_qbz5n2kfra8p0\\localcache\\local-packages\\python311\\site-packages (from markdown-it-py>=2.2.0->rich>=10.11.0->typer<1.0,>=0.12->gradio<6.0,>=4.0->gradio-pdf) (0.1.2)\n",
      "Downloading gradio_pdf-0.0.22-py3-none-any.whl (1.4 MB)\n",
      "   ---------------------------------------- 0.0/1.4 MB ? eta -:--:--\n",
      "   --------------- ------------------------ 0.5/1.4 MB 2.1 MB/s eta 0:00:01\n",
      "   ------------------------------ --------- 1.0/1.4 MB 2.4 MB/s eta 0:00:01\n",
      "   ---------------------------------------- 1.4/1.4 MB 2.3 MB/s eta 0:00:00\n",
      "Installing collected packages: gradio-pdf\n",
      "Successfully installed gradio-pdf-0.0.22\n"
     ]
    },
    {
     "name": "stderr",
     "output_type": "stream",
     "text": [
      "Error processing line 1 of C:\\Users\\bchan\\AppData\\Local\\Packages\\PythonSoftwareFoundation.Python.3.11_qbz5n2kfra8p0\\LocalCache\\local-packages\\Python311\\site-packages\\vision-1.0.0-py3.11-nspkg.pth:\n",
      "\n",
      "  Traceback (most recent call last):\n",
      "    File \"<frozen site>\", line 195, in addpackage\n",
      "    File \"<string>\", line 1, in <module>\n",
      "    File \"<frozen importlib._bootstrap>\", line 570, in module_from_spec\n",
      "  AttributeError: 'NoneType' object has no attribute 'loader'\n",
      "\n",
      "Remainder of file ignored\n",
      "WARNING: Ignoring invalid distribution ~cikit-learn (C:\\Users\\bchan\\AppData\\Local\\Packages\\PythonSoftwareFoundation.Python.3.11_qbz5n2kfra8p0\\LocalCache\\local-packages\\Python311\\site-packages)\n",
      "WARNING: Ignoring invalid distribution ~cikit-learn (C:\\Users\\bchan\\AppData\\Local\\Packages\\PythonSoftwareFoundation.Python.3.11_qbz5n2kfra8p0\\LocalCache\\local-packages\\Python311\\site-packages)\n",
      "WARNING: Ignoring invalid distribution ~cikit-learn (C:\\Users\\bchan\\AppData\\Local\\Packages\\PythonSoftwareFoundation.Python.3.11_qbz5n2kfra8p0\\LocalCache\\local-packages\\Python311\\site-packages)\n",
      "WARNING: Ignoring invalid distribution ~cikit-learn (C:\\Users\\bchan\\AppData\\Local\\Packages\\PythonSoftwareFoundation.Python.3.11_qbz5n2kfra8p0\\LocalCache\\local-packages\\Python311\\site-packages)\n",
      "\n",
      "[notice] A new release of pip is available: 25.0.1 -> 25.2\n",
      "[notice] To update, run: C:\\Users\\bchan\\AppData\\Local\\Microsoft\\WindowsApps\\PythonSoftwareFoundation.Python.3.11_qbz5n2kfra8p0\\python.exe -m pip install --upgrade pip\n"
     ]
    },
    {
     "name": "stdout",
     "output_type": "stream",
     "text": [
      "Collecting fitz\n",
      "  Downloading fitz-0.0.1.dev2-py2.py3-none-any.whl.metadata (816 bytes)\n",
      "Collecting configobj (from fitz)\n",
      "  Downloading configobj-5.0.9-py2.py3-none-any.whl.metadata (3.2 kB)\n",
      "Collecting configparser (from fitz)\n",
      "  Downloading configparser-7.2.0-py3-none-any.whl.metadata (5.5 kB)\n",
      "Requirement already satisfied: httplib2 in c:\\users\\bchan\\appdata\\local\\packages\\pythonsoftwarefoundation.python.3.11_qbz5n2kfra8p0\\localcache\\local-packages\\python311\\site-packages (from fitz) (0.20.4)\n",
      "Collecting nibabel (from fitz)\n",
      "  Downloading nibabel-5.3.2-py3-none-any.whl.metadata (9.1 kB)\n",
      "Collecting nipype (from fitz)\n",
      "  Downloading nipype-1.10.0-py3-none-any.whl.metadata (7.1 kB)\n",
      "Requirement already satisfied: numpy in c:\\users\\bchan\\appdata\\local\\packages\\pythonsoftwarefoundation.python.3.11_qbz5n2kfra8p0\\localcache\\local-packages\\python311\\site-packages (from fitz) (1.26.4)\n",
      "Requirement already satisfied: pandas in c:\\users\\bchan\\appdata\\local\\packages\\pythonsoftwarefoundation.python.3.11_qbz5n2kfra8p0\\localcache\\local-packages\\python311\\site-packages (from fitz) (2.2.2)\n",
      "Collecting pyxnat (from fitz)\n",
      "  Downloading pyxnat-1.6.3-py3-none-any.whl.metadata (5.4 kB)\n",
      "Requirement already satisfied: scipy in c:\\users\\bchan\\appdata\\local\\packages\\pythonsoftwarefoundation.python.3.11_qbz5n2kfra8p0\\localcache\\local-packages\\python311\\site-packages (from fitz) (1.12.0)\n",
      "Requirement already satisfied: pyparsing!=3.0.0,!=3.0.1,!=3.0.2,!=3.0.3,<4,>=2.4.2 in c:\\users\\bchan\\appdata\\local\\packages\\pythonsoftwarefoundation.python.3.11_qbz5n2kfra8p0\\localcache\\local-packages\\python311\\site-packages (from httplib2->fitz) (3.1.1)\n",
      "Requirement already satisfied: importlib-resources>=5.12 in c:\\users\\bchan\\appdata\\local\\packages\\pythonsoftwarefoundation.python.3.11_qbz5n2kfra8p0\\localcache\\local-packages\\python311\\site-packages (from nibabel->fitz) (6.4.0)\n",
      "Requirement already satisfied: packaging>=20 in c:\\users\\bchan\\appdata\\local\\packages\\pythonsoftwarefoundation.python.3.11_qbz5n2kfra8p0\\localcache\\local-packages\\python311\\site-packages (from nibabel->fitz) (23.2)\n",
      "Requirement already satisfied: typing-extensions>=4.6 in c:\\users\\bchan\\appdata\\local\\packages\\pythonsoftwarefoundation.python.3.11_qbz5n2kfra8p0\\localcache\\local-packages\\python311\\site-packages (from nibabel->fitz) (4.12.2)\n",
      "Requirement already satisfied: click>=6.6.0 in c:\\users\\bchan\\appdata\\local\\packages\\pythonsoftwarefoundation.python.3.11_qbz5n2kfra8p0\\localcache\\local-packages\\python311\\site-packages (from nipype->fitz) (8.1.7)\n",
      "Requirement already satisfied: networkx>=2.5 in c:\\users\\bchan\\appdata\\local\\packages\\pythonsoftwarefoundation.python.3.11_qbz5n2kfra8p0\\localcache\\local-packages\\python311\\site-packages (from nipype->fitz) (3.4.2)\n",
      "Collecting prov>=1.5.2 (from nipype->fitz)\n",
      "  Downloading prov-2.1.1-py3-none-any.whl.metadata (3.7 kB)\n",
      "Collecting pydot>=1.2.3 (from nipype->fitz)\n",
      "  Downloading pydot-4.0.1-py3-none-any.whl.metadata (11 kB)\n",
      "Requirement already satisfied: python-dateutil>=2.2 in c:\\users\\bchan\\appdata\\local\\packages\\pythonsoftwarefoundation.python.3.11_qbz5n2kfra8p0\\localcache\\local-packages\\python311\\site-packages (from nipype->fitz) (2.8.2)\n",
      "Collecting rdflib>=5.0.0 (from nipype->fitz)\n",
      "  Downloading rdflib-7.1.4-py3-none-any.whl.metadata (11 kB)\n",
      "Collecting simplejson>=3.8.0 (from nipype->fitz)\n",
      "  Downloading simplejson-3.20.1-cp311-cp311-win_amd64.whl.metadata (3.4 kB)\n",
      "Collecting traits>=6.2 (from nipype->fitz)\n",
      "  Downloading traits-7.0.2-cp311-cp311-win_amd64.whl.metadata (4.9 kB)\n",
      "Requirement already satisfied: filelock>=3.0.0 in c:\\users\\bchan\\appdata\\local\\packages\\pythonsoftwarefoundation.python.3.11_qbz5n2kfra8p0\\localcache\\local-packages\\python311\\site-packages (from nipype->fitz) (3.15.4)\n",
      "Collecting acres (from nipype->fitz)\n",
      "  Downloading acres-0.5.0-py3-none-any.whl.metadata (6.2 kB)\n",
      "Collecting etelemetry>=0.3.1 (from nipype->fitz)\n",
      "  Downloading etelemetry-0.3.1-py3-none-any.whl.metadata (3.2 kB)\n",
      "Collecting looseversion!=1.2 (from nipype->fitz)\n",
      "  Downloading looseversion-1.3.0-py2.py3-none-any.whl.metadata (4.6 kB)\n",
      "Collecting puremagic (from nipype->fitz)\n",
      "  Downloading puremagic-1.30-py3-none-any.whl.metadata (5.8 kB)\n",
      "Requirement already satisfied: pytz>=2020.1 in c:\\users\\bchan\\appdata\\local\\packages\\pythonsoftwarefoundation.python.3.11_qbz5n2kfra8p0\\localcache\\local-packages\\python311\\site-packages (from pandas->fitz) (2024.1)\n",
      "Requirement already satisfied: tzdata>=2022.7 in c:\\users\\bchan\\appdata\\local\\packages\\pythonsoftwarefoundation.python.3.11_qbz5n2kfra8p0\\localcache\\local-packages\\python311\\site-packages (from pandas->fitz) (2024.1)\n",
      "Requirement already satisfied: lxml>=4.3 in c:\\users\\bchan\\appdata\\local\\packages\\pythonsoftwarefoundation.python.3.11_qbz5n2kfra8p0\\localcache\\local-packages\\python311\\site-packages (from pyxnat->fitz) (5.2.2)\n",
      "Requirement already satisfied: requests>=2.20 in c:\\users\\bchan\\appdata\\local\\packages\\pythonsoftwarefoundation.python.3.11_qbz5n2kfra8p0\\localcache\\local-packages\\python311\\site-packages (from pyxnat->fitz) (2.32.3)\n",
      "Collecting pathlib>=1.0 (from pyxnat->fitz)\n",
      "  Downloading pathlib-1.0.1-py3-none-any.whl.metadata (5.1 kB)\n",
      "Requirement already satisfied: colorama in c:\\users\\bchan\\appdata\\local\\packages\\pythonsoftwarefoundation.python.3.11_qbz5n2kfra8p0\\localcache\\local-packages\\python311\\site-packages (from click>=6.6.0->nipype->fitz) (0.4.6)\n",
      "Collecting ci-info>=0.2 (from etelemetry>=0.3.1->nipype->fitz)\n",
      "  Downloading ci_info-0.3.0-py3-none-any.whl.metadata (6.1 kB)\n",
      "Requirement already satisfied: six>=1.5 in c:\\users\\bchan\\appdata\\local\\packages\\pythonsoftwarefoundation.python.3.11_qbz5n2kfra8p0\\localcache\\local-packages\\python311\\site-packages (from python-dateutil>=2.2->nipype->fitz) (1.16.0)\n",
      "Requirement already satisfied: charset-normalizer<4,>=2 in c:\\users\\bchan\\appdata\\local\\packages\\pythonsoftwarefoundation.python.3.11_qbz5n2kfra8p0\\localcache\\local-packages\\python311\\site-packages (from requests>=2.20->pyxnat->fitz) (3.3.2)\n",
      "Requirement already satisfied: idna<4,>=2.5 in c:\\users\\bchan\\appdata\\local\\packages\\pythonsoftwarefoundation.python.3.11_qbz5n2kfra8p0\\localcache\\local-packages\\python311\\site-packages (from requests>=2.20->pyxnat->fitz) (3.6)\n",
      "Requirement already satisfied: urllib3<3,>=1.21.1 in c:\\users\\bchan\\appdata\\local\\packages\\pythonsoftwarefoundation.python.3.11_qbz5n2kfra8p0\\localcache\\local-packages\\python311\\site-packages (from requests>=2.20->pyxnat->fitz) (2.2.1)\n",
      "Requirement already satisfied: certifi>=2017.4.17 in c:\\users\\bchan\\appdata\\local\\packages\\pythonsoftwarefoundation.python.3.11_qbz5n2kfra8p0\\localcache\\local-packages\\python311\\site-packages (from requests>=2.20->pyxnat->fitz) (2023.11.17)\n",
      "Downloading fitz-0.0.1.dev2-py2.py3-none-any.whl (20 kB)\n",
      "Downloading configobj-5.0.9-py2.py3-none-any.whl (35 kB)\n",
      "Downloading configparser-7.2.0-py3-none-any.whl (17 kB)\n",
      "Downloading nibabel-5.3.2-py3-none-any.whl (3.3 MB)\n",
      "   ---------------------------------------- 0.0/3.3 MB ? eta -:--:--\n",
      "   ------ --------------------------------- 0.5/3.3 MB 2.4 MB/s eta 0:00:02\n",
      "   ------------ --------------------------- 1.0/3.3 MB 2.4 MB/s eta 0:00:01\n",
      "   ------------------- -------------------- 1.6/3.3 MB 2.5 MB/s eta 0:00:01\n",
      "   ------------------------- -------------- 2.1/3.3 MB 2.4 MB/s eta 0:00:01\n",
      "   ------------------------------- -------- 2.6/3.3 MB 2.5 MB/s eta 0:00:01\n",
      "   -------------------------------------- - 3.1/3.3 MB 2.5 MB/s eta 0:00:01\n",
      "   ---------------------------------------- 3.3/3.3 MB 2.4 MB/s eta 0:00:00\n",
      "Downloading nipype-1.10.0-py3-none-any.whl (3.2 MB)\n",
      "   ---------------------------------------- 0.0/3.2 MB ? eta -:--:--\n",
      "   ------ --------------------------------- 0.5/3.2 MB 2.1 MB/s eta 0:00:02\n",
      "   ------------- -------------------------- 1.0/3.2 MB 2.3 MB/s eta 0:00:01\n",
      "   ------------------- -------------------- 1.6/3.2 MB 2.4 MB/s eta 0:00:01\n",
      "   -------------------------- ------------- 2.1/3.2 MB 2.4 MB/s eta 0:00:01\n",
      "   -------------------------------- ------- 2.6/3.2 MB 2.5 MB/s eta 0:00:01\n",
      "   ---------------------------------------- 3.2/3.2 MB 2.5 MB/s eta 0:00:00\n",
      "Downloading pyxnat-1.6.3-py3-none-any.whl (95 kB)\n",
      "Downloading etelemetry-0.3.1-py3-none-any.whl (6.4 kB)\n",
      "Downloading looseversion-1.3.0-py2.py3-none-any.whl (8.2 kB)\n",
      "Downloading pathlib-1.0.1-py3-none-any.whl (14 kB)\n",
      "Downloading prov-2.1.1-py3-none-any.whl (425 kB)\n",
      "Downloading pydot-4.0.1-py3-none-any.whl (37 kB)\n",
      "Downloading rdflib-7.1.4-py3-none-any.whl (565 kB)\n",
      "   ---------------------------------------- 0.0/565.1 kB ? eta -:--:--\n",
      "   ------------------------------------- -- 524.3/565.1 kB 2.1 MB/s eta 0:00:01\n",
      "   ---------------------------------------- 565.1/565.1 kB 2.2 MB/s eta 0:00:00\n",
      "Downloading simplejson-3.20.1-cp311-cp311-win_amd64.whl (75 kB)\n",
      "Downloading traits-7.0.2-cp311-cp311-win_amd64.whl (5.0 MB)\n",
      "   ---------------------------------------- 0.0/5.0 MB ? eta -:--:--\n",
      "   ---- ----------------------------------- 0.5/5.0 MB 2.1 MB/s eta 0:00:03\n",
      "   -------- ------------------------------- 1.0/5.0 MB 2.4 MB/s eta 0:00:02\n",
      "   ------------ --------------------------- 1.6/5.0 MB 2.4 MB/s eta 0:00:02\n",
      "   ---------------- ----------------------- 2.1/5.0 MB 2.4 MB/s eta 0:00:02\n",
      "   -------------------- ------------------- 2.6/5.0 MB 2.4 MB/s eta 0:00:01\n",
      "   ------------------------ --------------- 3.1/5.0 MB 2.5 MB/s eta 0:00:01\n",
      "   ----------------------------- ---------- 3.7/5.0 MB 2.5 MB/s eta 0:00:01\n",
      "   --------------------------------- ------ 4.2/5.0 MB 2.5 MB/s eta 0:00:01\n",
      "   ------------------------------------- -- 4.7/5.0 MB 2.5 MB/s eta 0:00:01\n",
      "   ---------------------------------------- 5.0/5.0 MB 2.4 MB/s eta 0:00:00\n",
      "Downloading acres-0.5.0-py3-none-any.whl (12 kB)\n",
      "Downloading puremagic-1.30-py3-none-any.whl (43 kB)\n",
      "Downloading ci_info-0.3.0-py3-none-any.whl (7.8 kB)\n",
      "Installing collected packages: puremagic, pathlib, looseversion, traits, simplejson, rdflib, pydot, nibabel, configparser, configobj, ci-info, acres, pyxnat, prov, etelemetry, nipype, fitz\n",
      "Successfully installed acres-0.5.0 ci-info-0.3.0 configobj-5.0.9 configparser-7.2.0 etelemetry-0.3.1 fitz-0.0.1.dev2 looseversion-1.3.0 nibabel-5.3.2 nipype-1.10.0 pathlib-1.0.1 prov-2.1.1 puremagic-1.30 pydot-4.0.1 pyxnat-1.6.3 rdflib-7.1.4 simplejson-3.20.1 traits-7.0.2\n"
     ]
    },
    {
     "name": "stderr",
     "output_type": "stream",
     "text": [
      "Error processing line 1 of C:\\Users\\bchan\\AppData\\Local\\Packages\\PythonSoftwareFoundation.Python.3.11_qbz5n2kfra8p0\\LocalCache\\local-packages\\Python311\\site-packages\\vision-1.0.0-py3.11-nspkg.pth:\n",
      "\n",
      "  Traceback (most recent call last):\n",
      "    File \"<frozen site>\", line 195, in addpackage\n",
      "    File \"<string>\", line 1, in <module>\n",
      "    File \"<frozen importlib._bootstrap>\", line 570, in module_from_spec\n",
      "  AttributeError: 'NoneType' object has no attribute 'loader'\n",
      "\n",
      "Remainder of file ignored\n",
      "WARNING: Ignoring invalid distribution ~cikit-learn (C:\\Users\\bchan\\AppData\\Local\\Packages\\PythonSoftwareFoundation.Python.3.11_qbz5n2kfra8p0\\LocalCache\\local-packages\\Python311\\site-packages)\n",
      "WARNING: Ignoring invalid distribution ~cikit-learn (C:\\Users\\bchan\\AppData\\Local\\Packages\\PythonSoftwareFoundation.Python.3.11_qbz5n2kfra8p0\\LocalCache\\local-packages\\Python311\\site-packages)\n",
      "WARNING: Ignoring invalid distribution ~cikit-learn (C:\\Users\\bchan\\AppData\\Local\\Packages\\PythonSoftwareFoundation.Python.3.11_qbz5n2kfra8p0\\LocalCache\\local-packages\\Python311\\site-packages)\n",
      "WARNING: Ignoring invalid distribution ~cikit-learn (C:\\Users\\bchan\\AppData\\Local\\Packages\\PythonSoftwareFoundation.Python.3.11_qbz5n2kfra8p0\\LocalCache\\local-packages\\Python311\\site-packages)\n",
      "\n",
      "[notice] A new release of pip is available: 25.0.1 -> 25.2\n",
      "[notice] To update, run: C:\\Users\\bchan\\AppData\\Local\\Microsoft\\WindowsApps\\PythonSoftwareFoundation.Python.3.11_qbz5n2kfra8p0\\python.exe -m pip install --upgrade pip\n"
     ]
    },
    {
     "name": "stdout",
     "output_type": "stream",
     "text": [
      "Collecting pymupdf"
     ]
    },
    {
     "name": "stderr",
     "output_type": "stream",
     "text": [
      "Error processing line 1 of C:\\Users\\bchan\\AppData\\Local\\Packages\\PythonSoftwareFoundation.Python.3.11_qbz5n2kfra8p0\\LocalCache\\local-packages\\Python311\\site-packages\\vision-1.0.0-py3.11-nspkg.pth:\n",
      "\n",
      "  Traceback (most recent call last):\n",
      "    File \"<frozen site>\", line 195, in addpackage\n",
      "    File \"<string>\", line 1, in <module>\n",
      "    File \"<frozen importlib._bootstrap>\", line 570, in module_from_spec\n",
      "  AttributeError: 'NoneType' object has no attribute 'loader'\n",
      "\n",
      "Remainder of file ignored\n",
      "WARNING: Ignoring invalid distribution ~cikit-learn (C:\\Users\\bchan\\AppData\\Local\\Packages\\PythonSoftwareFoundation.Python.3.11_qbz5n2kfra8p0\\LocalCache\\local-packages\\Python311\\site-packages)\n",
      "WARNING: Ignoring invalid distribution ~cikit-learn (C:\\Users\\bchan\\AppData\\Local\\Packages\\PythonSoftwareFoundation.Python.3.11_qbz5n2kfra8p0\\LocalCache\\local-packages\\Python311\\site-packages)\n",
      "WARNING: Ignoring invalid distribution ~cikit-learn (C:\\Users\\bchan\\AppData\\Local\\Packages\\PythonSoftwareFoundation.Python.3.11_qbz5n2kfra8p0\\LocalCache\\local-packages\\Python311\\site-packages)\n",
      "WARNING: Ignoring invalid distribution ~cikit-learn (C:\\Users\\bchan\\AppData\\Local\\Packages\\PythonSoftwareFoundation.Python.3.11_qbz5n2kfra8p0\\LocalCache\\local-packages\\Python311\\site-packages)\n",
      "\n",
      "[notice] A new release of pip is available: 25.0.1 -> 25.2\n",
      "[notice] To update, run: C:\\Users\\bchan\\AppData\\Local\\Microsoft\\WindowsApps\\PythonSoftwareFoundation.Python.3.11_qbz5n2kfra8p0\\python.exe -m pip install --upgrade pip\n"
     ]
    },
    {
     "name": "stdout",
     "output_type": "stream",
     "text": [
      "\n",
      "  Downloading pymupdf-1.26.3-cp39-abi3-win_amd64.whl.metadata (3.4 kB)\n",
      "Downloading pymupdf-1.26.3-cp39-abi3-win_amd64.whl (18.7 MB)\n",
      "   ---------------------------------------- 0.0/18.7 MB ? eta -:--:--\n",
      "   - -------------------------------------- 0.5/18.7 MB 2.1 MB/s eta 0:00:09\n",
      "   -- ------------------------------------- 1.0/18.7 MB 2.4 MB/s eta 0:00:08\n",
      "   --- ------------------------------------ 1.6/18.7 MB 2.5 MB/s eta 0:00:07\n",
      "   ---- ----------------------------------- 2.1/18.7 MB 2.4 MB/s eta 0:00:07\n",
      "   ----- ---------------------------------- 2.6/18.7 MB 2.5 MB/s eta 0:00:07\n",
      "   ------ --------------------------------- 3.1/18.7 MB 2.5 MB/s eta 0:00:07\n",
      "   ------- -------------------------------- 3.7/18.7 MB 2.5 MB/s eta 0:00:07\n",
      "   -------- ------------------------------- 4.2/18.7 MB 2.5 MB/s eta 0:00:06\n",
      "   ---------- ----------------------------- 4.7/18.7 MB 2.5 MB/s eta 0:00:06\n",
      "   ----------- ---------------------------- 5.2/18.7 MB 2.5 MB/s eta 0:00:06\n",
      "   ------------ --------------------------- 5.8/18.7 MB 2.4 MB/s eta 0:00:06\n",
      "   ------------- -------------------------- 6.3/18.7 MB 2.5 MB/s eta 0:00:06\n",
      "   -------------- ------------------------- 6.8/18.7 MB 2.5 MB/s eta 0:00:05\n",
      "   --------------- ------------------------ 7.3/18.7 MB 2.5 MB/s eta 0:00:05\n",
      "   ---------------- ----------------------- 7.9/18.7 MB 2.5 MB/s eta 0:00:05\n",
      "   ----------------- ---------------------- 8.4/18.7 MB 2.5 MB/s eta 0:00:05\n",
      "   ------------------- -------------------- 8.9/18.7 MB 2.5 MB/s eta 0:00:04\n",
      "   -------------------- ------------------- 9.4/18.7 MB 2.5 MB/s eta 0:00:04\n",
      "   --------------------- ------------------ 10.0/18.7 MB 2.5 MB/s eta 0:00:04\n",
      "   ---------------------- ----------------- 10.5/18.7 MB 2.5 MB/s eta 0:00:04\n",
      "   ----------------------- ---------------- 11.0/18.7 MB 2.5 MB/s eta 0:00:04\n",
      "   ------------------------ --------------- 11.5/18.7 MB 2.5 MB/s eta 0:00:03\n",
      "   ------------------------- -------------- 12.1/18.7 MB 2.5 MB/s eta 0:00:03\n",
      "   -------------------------- ------------- 12.6/18.7 MB 2.5 MB/s eta 0:00:03\n",
      "   --------------------------- ------------ 13.1/18.7 MB 2.5 MB/s eta 0:00:03\n",
      "   ----------------------------- ---------- 13.6/18.7 MB 2.5 MB/s eta 0:00:03\n",
      "   ------------------------------ --------- 14.2/18.7 MB 2.5 MB/s eta 0:00:02\n",
      "   ------------------------------- -------- 14.7/18.7 MB 2.5 MB/s eta 0:00:02\n",
      "   -------------------------------- ------- 15.2/18.7 MB 2.5 MB/s eta 0:00:02\n",
      "   --------------------------------- ------ 15.7/18.7 MB 2.5 MB/s eta 0:00:02\n",
      "   ---------------------------------- ----- 16.3/18.7 MB 2.5 MB/s eta 0:00:02\n",
      "   ----------------------------------- ---- 16.5/18.7 MB 2.5 MB/s eta 0:00:01\n",
      "   ------------------------------------ --- 17.0/18.7 MB 2.5 MB/s eta 0:00:01\n",
      "   ------------------------------------- -- 17.6/18.7 MB 2.5 MB/s eta 0:00:01\n",
      "   -------------------------------------- - 18.1/18.7 MB 2.5 MB/s eta 0:00:01\n",
      "   ---------------------------------------  18.6/18.7 MB 2.5 MB/s eta 0:00:01\n",
      "   ---------------------------------------- 18.7/18.7 MB 2.5 MB/s eta 0:00:00\n",
      "Installing collected packages: pymupdf\n",
      "Successfully installed pymupdf-1.26.3\n",
      "Requirement already satisfied: nltk in c:\\users\\bchan\\appdata\\local\\packages\\pythonsoftwarefoundation.python.3.11_qbz5n2kfra8p0\\localcache\\local-packages\\python311\\site-packages (3.8.1)\n",
      "Requirement already satisfied: click in c:\\users\\bchan\\appdata\\local\\packages\\pythonsoftwarefoundation.python.3.11_qbz5n2kfra8p0\\localcache\\local-packages\\python311\\site-packages (from nltk) (8.1.7)\n",
      "Requirement already satisfied: joblib in c:\\users\\bchan\\appdata\\local\\packages\\pythonsoftwarefoundation.python.3.11_qbz5n2kfra8p0\\localcache\\local-packages\\python311\\site-packages (from nltk) (1.3.2)\n",
      "Requirement already satisfied: regex>=2021.8.3 in c:\\users\\bchan\\appdata\\local\\packages\\pythonsoftwarefoundation.python.3.11_qbz5n2kfra8p0\\localcache\\local-packages\\python311\\site-packages (from nltk) (2023.12.25)\n",
      "Requirement already satisfied: tqdm in c:\\users\\bchan\\appdata\\local\\packages\\pythonsoftwarefoundation.python.3.11_qbz5n2kfra8p0\\localcache\\local-packages\\python311\\site-packages (from nltk) (4.67.1)\n",
      "Requirement already satisfied: colorama in c:\\users\\bchan\\appdata\\local\\packages\\pythonsoftwarefoundation.python.3.11_qbz5n2kfra8p0\\localcache\\local-packages\\python311\\site-packages (from click->nltk) (0.4.6)\n"
     ]
    },
    {
     "name": "stderr",
     "output_type": "stream",
     "text": [
      "Error processing line 1 of C:\\Users\\bchan\\AppData\\Local\\Packages\\PythonSoftwareFoundation.Python.3.11_qbz5n2kfra8p0\\LocalCache\\local-packages\\Python311\\site-packages\\vision-1.0.0-py3.11-nspkg.pth:\n",
      "\n",
      "  Traceback (most recent call last):\n",
      "    File \"<frozen site>\", line 195, in addpackage\n",
      "    File \"<string>\", line 1, in <module>\n",
      "    File \"<frozen importlib._bootstrap>\", line 570, in module_from_spec\n",
      "  AttributeError: 'NoneType' object has no attribute 'loader'\n",
      "\n",
      "Remainder of file ignored\n",
      "WARNING: Ignoring invalid distribution ~cikit-learn (C:\\Users\\bchan\\AppData\\Local\\Packages\\PythonSoftwareFoundation.Python.3.11_qbz5n2kfra8p0\\LocalCache\\local-packages\\Python311\\site-packages)\n",
      "WARNING: Ignoring invalid distribution ~cikit-learn (C:\\Users\\bchan\\AppData\\Local\\Packages\\PythonSoftwareFoundation.Python.3.11_qbz5n2kfra8p0\\LocalCache\\local-packages\\Python311\\site-packages)\n",
      "WARNING: Ignoring invalid distribution ~cikit-learn (C:\\Users\\bchan\\AppData\\Local\\Packages\\PythonSoftwareFoundation.Python.3.11_qbz5n2kfra8p0\\LocalCache\\local-packages\\Python311\\site-packages)\n",
      "WARNING: Ignoring invalid distribution ~cikit-learn (C:\\Users\\bchan\\AppData\\Local\\Packages\\PythonSoftwareFoundation.Python.3.11_qbz5n2kfra8p0\\LocalCache\\local-packages\\Python311\\site-packages)\n",
      "\n",
      "[notice] A new release of pip is available: 25.0.1 -> 25.2\n",
      "[notice] To update, run: C:\\Users\\bchan\\AppData\\Local\\Microsoft\\WindowsApps\\PythonSoftwareFoundation.Python.3.11_qbz5n2kfra8p0\\python.exe -m pip install --upgrade pip\n"
     ]
    }
   ],
   "source": [
    "!pip install PyPDF2\n",
    "!pip install gradio-pdf\n",
    "# !pip install fitz\n",
    "!pip install pymupdf\n",
    "!pip install nltk\n",
    "import tensorflow as tf, keras, numpy as np, pandas as pd\n",
    "# import kagglehub\n",
    "import nltk, os\n",
    "from sklearn.preprocessing import LabelEncoder\n",
    "from tensorflow.keras.utils import to_categorical\n",
    "from sklearn.feature_extraction.text import TfidfVectorizer\n",
    "from sklearn.model_selection import train_test_split\n",
    "from tensorflow.keras.models import Sequential\n",
    "from tensorflow.keras.layers import Input, Dense, Dropout\n",
    "import PyPDF2\n",
    "from gradio_pdf import PDF\n",
    "import re\n",
    "import joblib\n",
    "import os\n",
    "import fitz"
   ]
  },
  {
   "cell_type": "markdown",
   "metadata": {
    "id": "Uq8L2H7USy4E"
   },
   "source": [
    "## Dataset"
   ]
  },
  {
   "cell_type": "code",
   "execution_count": 2,
   "metadata": {
    "id": "n5IO4qc-AZEy"
   },
   "outputs": [],
   "source": [
    "# from google.colab import drive\n",
    "# drive.mount('/content/drive')\n",
    "\n",
    "# files.upload()\n",
    "\n",
    "# !ls /content/drive/MyDrive/ResumeClassifier\n",
    "\n",
    "# drive_path = '/content/drive/MyDrive/ResumeClassifier/resume-dataset'\n",
    "# path = kagglehub.dataset_download(\"gauravduttakiit/resume-dataset\", path=drive_path)\n",
    "# !kaggle datasets download -d gauravduttakiit/resume-dataset\n",
    "# !unzip dataset-name.zip -d /content/drive/MyDrive/ResumeClassifier\n",
    "\n",
    "# file_path = '/content/drive/MyDrive/ResumeClassifier/UpdatedResumeDataSet.csv'"
   ]
  },
  {
   "cell_type": "code",
   "execution_count": 3,
   "metadata": {
    "colab": {
     "base_uri": "https://localhost:8080/"
    },
    "id": "hJNjbKRQ-NMb",
    "outputId": "39de9b28-8a15-4667-c749-8aee9284a494"
   },
   "outputs": [
    {
     "data": {
      "text/plain": [
       "array(['Data Science', 'HR', 'Advocate', 'Arts', 'Web Designing',\n",
       "       'Mechanical Engineer', 'Sales', 'Health and fitness',\n",
       "       'Civil Engineer', 'Java Developer', 'Business Analyst',\n",
       "       'SAP Developer', 'Automation Testing', 'Electrical Engineering',\n",
       "       'Operations Manager', 'Python Developer', 'DevOps Engineer',\n",
       "       'Network Security Engineer', 'PMO', 'Database', 'Hadoop',\n",
       "       'ETL Developer', 'DotNet Developer', 'Blockchain', 'Testing'],\n",
       "      dtype=object)"
      ]
     },
     "execution_count": 3,
     "metadata": {},
     "output_type": "execute_result"
    }
   ],
   "source": [
    "file_path = 'https://raw.githubusercontent.com/BrandonYChan/Resume-Screener/refs/heads/main/UpdatedResumeDataSet.csv'\n",
    "resume_df = pd.read_csv(file_path)\n",
    "resume_df['Category'].unique()"
   ]
  },
  {
   "cell_type": "code",
   "execution_count": 4,
   "metadata": {
    "colab": {
     "base_uri": "https://localhost:8080/",
     "height": 423
    },
    "id": "gEkkztWGKzbW",
    "outputId": "0049bf31-3986-4183-b2bf-e37146620cd4"
   },
   "outputs": [
    {
     "data": {
      "text/html": [
       "<div>\n",
       "<style scoped>\n",
       "    .dataframe tbody tr th:only-of-type {\n",
       "        vertical-align: middle;\n",
       "    }\n",
       "\n",
       "    .dataframe tbody tr th {\n",
       "        vertical-align: top;\n",
       "    }\n",
       "\n",
       "    .dataframe thead th {\n",
       "        text-align: right;\n",
       "    }\n",
       "</style>\n",
       "<table border=\"1\" class=\"dataframe\">\n",
       "  <thead>\n",
       "    <tr style=\"text-align: right;\">\n",
       "      <th></th>\n",
       "      <th>Category</th>\n",
       "      <th>Resume</th>\n",
       "    </tr>\n",
       "  </thead>\n",
       "  <tbody>\n",
       "    <tr>\n",
       "      <th>0</th>\n",
       "      <td>Data Science</td>\n",
       "      <td>Skills * Programming Languages: Python (pandas...</td>\n",
       "    </tr>\n",
       "    <tr>\n",
       "      <th>1</th>\n",
       "      <td>Data Science</td>\n",
       "      <td>Education Details \\r\\nMay 2013 to May 2017 B.E...</td>\n",
       "    </tr>\n",
       "    <tr>\n",
       "      <th>2</th>\n",
       "      <td>Data Science</td>\n",
       "      <td>Areas of Interest Deep Learning, Control Syste...</td>\n",
       "    </tr>\n",
       "    <tr>\n",
       "      <th>3</th>\n",
       "      <td>Data Science</td>\n",
       "      <td>Skills â¢ R â¢ Python â¢ SAP HANA â¢ Table...</td>\n",
       "    </tr>\n",
       "    <tr>\n",
       "      <th>4</th>\n",
       "      <td>Data Science</td>\n",
       "      <td>Education Details \\r\\n MCA   YMCAUST,  Faridab...</td>\n",
       "    </tr>\n",
       "    <tr>\n",
       "      <th>...</th>\n",
       "      <td>...</td>\n",
       "      <td>...</td>\n",
       "    </tr>\n",
       "    <tr>\n",
       "      <th>957</th>\n",
       "      <td>Testing</td>\n",
       "      <td>Computer Skills: â¢ Proficient in MS office (...</td>\n",
       "    </tr>\n",
       "    <tr>\n",
       "      <th>958</th>\n",
       "      <td>Testing</td>\n",
       "      <td>â Willingness to accept the challenges. â ...</td>\n",
       "    </tr>\n",
       "    <tr>\n",
       "      <th>959</th>\n",
       "      <td>Testing</td>\n",
       "      <td>PERSONAL SKILLS â¢ Quick learner, â¢ Eagerne...</td>\n",
       "    </tr>\n",
       "    <tr>\n",
       "      <th>960</th>\n",
       "      <td>Testing</td>\n",
       "      <td>COMPUTER SKILLS &amp; SOFTWARE KNOWLEDGE MS-Power ...</td>\n",
       "    </tr>\n",
       "    <tr>\n",
       "      <th>961</th>\n",
       "      <td>Testing</td>\n",
       "      <td>Skill Set OS Windows XP/7/8/8.1/10 Database MY...</td>\n",
       "    </tr>\n",
       "  </tbody>\n",
       "</table>\n",
       "<p>962 rows × 2 columns</p>\n",
       "</div>"
      ],
      "text/plain": [
       "         Category                                             Resume\n",
       "0    Data Science  Skills * Programming Languages: Python (pandas...\n",
       "1    Data Science  Education Details \\r\\nMay 2013 to May 2017 B.E...\n",
       "2    Data Science  Areas of Interest Deep Learning, Control Syste...\n",
       "3    Data Science  Skills â¢ R â¢ Python â¢ SAP HANA â¢ Table...\n",
       "4    Data Science  Education Details \\r\\n MCA   YMCAUST,  Faridab...\n",
       "..            ...                                                ...\n",
       "957       Testing  Computer Skills: â¢ Proficient in MS office (...\n",
       "958       Testing  â Willingness to accept the challenges. â ...\n",
       "959       Testing  PERSONAL SKILLS â¢ Quick learner, â¢ Eagerne...\n",
       "960       Testing  COMPUTER SKILLS & SOFTWARE KNOWLEDGE MS-Power ...\n",
       "961       Testing  Skill Set OS Windows XP/7/8/8.1/10 Database MY...\n",
       "\n",
       "[962 rows x 2 columns]"
      ]
     },
     "execution_count": 4,
     "metadata": {},
     "output_type": "execute_result"
    }
   ],
   "source": [
    "resume_df"
   ]
  },
  {
   "cell_type": "code",
   "execution_count": 5,
   "metadata": {
    "colab": {
     "base_uri": "https://localhost:8080/",
     "height": 458
    },
    "id": "4Q8opgS3NTUd",
    "outputId": "eb70539b-38f0-4854-bc8c-b0df156d60cb"
   },
   "outputs": [
    {
     "name": "stderr",
     "output_type": "stream",
     "text": [
      "[nltk_data] Downloading package stopwords to\n",
      "[nltk_data]     C:\\Users\\bchan\\AppData\\Roaming\\nltk_data...\n",
      "[nltk_data]   Unzipping corpora\\stopwords.zip.\n"
     ]
    },
    {
     "data": {
      "text/html": [
       "<div>\n",
       "<style scoped>\n",
       "    .dataframe tbody tr th:only-of-type {\n",
       "        vertical-align: middle;\n",
       "    }\n",
       "\n",
       "    .dataframe tbody tr th {\n",
       "        vertical-align: top;\n",
       "    }\n",
       "\n",
       "    .dataframe thead th {\n",
       "        text-align: right;\n",
       "    }\n",
       "</style>\n",
       "<table border=\"1\" class=\"dataframe\">\n",
       "  <thead>\n",
       "    <tr style=\"text-align: right;\">\n",
       "      <th></th>\n",
       "      <th>Category</th>\n",
       "      <th>Resume</th>\n",
       "    </tr>\n",
       "  </thead>\n",
       "  <tbody>\n",
       "    <tr>\n",
       "      <th>0</th>\n",
       "      <td>Data Science</td>\n",
       "      <td>skills programming languages python pandas num...</td>\n",
       "    </tr>\n",
       "    <tr>\n",
       "      <th>1</th>\n",
       "      <td>Data Science</td>\n",
       "      <td>education details may may uitrgpv data scienti...</td>\n",
       "    </tr>\n",
       "    <tr>\n",
       "      <th>2</th>\n",
       "      <td>Data Science</td>\n",
       "      <td>areas interest deep learning control system de...</td>\n",
       "    </tr>\n",
       "    <tr>\n",
       "      <th>3</th>\n",
       "      <td>Data Science</td>\n",
       "      <td>skills r python sap hana tableau sap hana sql ...</td>\n",
       "    </tr>\n",
       "    <tr>\n",
       "      <th>4</th>\n",
       "      <td>Data Science</td>\n",
       "      <td>education details mca ymcaust faridabad haryan...</td>\n",
       "    </tr>\n",
       "    <tr>\n",
       "      <th>...</th>\n",
       "      <td>...</td>\n",
       "      <td>...</td>\n",
       "    </tr>\n",
       "    <tr>\n",
       "      <th>957</th>\n",
       "      <td>Testing</td>\n",
       "      <td>computer skills proficient ms office word basi...</td>\n",
       "    </tr>\n",
       "    <tr>\n",
       "      <th>958</th>\n",
       "      <td>Testing</td>\n",
       "      <td>willingness accept challenges positive thinkin...</td>\n",
       "    </tr>\n",
       "    <tr>\n",
       "      <th>959</th>\n",
       "      <td>Testing</td>\n",
       "      <td>personal skills quick learner eagerness learn ...</td>\n",
       "    </tr>\n",
       "    <tr>\n",
       "      <th>960</th>\n",
       "      <td>Testing</td>\n",
       "      <td>computer skills software knowledge mspower poi...</td>\n",
       "    </tr>\n",
       "    <tr>\n",
       "      <th>961</th>\n",
       "      <td>Testing</td>\n",
       "      <td>skill set os windows xp database mysql sql ser...</td>\n",
       "    </tr>\n",
       "  </tbody>\n",
       "</table>\n",
       "<p>962 rows × 2 columns</p>\n",
       "</div>"
      ],
      "text/plain": [
       "         Category                                             Resume\n",
       "0    Data Science  skills programming languages python pandas num...\n",
       "1    Data Science  education details may may uitrgpv data scienti...\n",
       "2    Data Science  areas interest deep learning control system de...\n",
       "3    Data Science  skills r python sap hana tableau sap hana sql ...\n",
       "4    Data Science  education details mca ymcaust faridabad haryan...\n",
       "..            ...                                                ...\n",
       "957       Testing  computer skills proficient ms office word basi...\n",
       "958       Testing  willingness accept challenges positive thinkin...\n",
       "959       Testing  personal skills quick learner eagerness learn ...\n",
       "960       Testing  computer skills software knowledge mspower poi...\n",
       "961       Testing  skill set os windows xp database mysql sql ser...\n",
       "\n",
       "[962 rows x 2 columns]"
      ]
     },
     "execution_count": 5,
     "metadata": {},
     "output_type": "execute_result"
    }
   ],
   "source": [
    "# Clean text\n",
    "resume_df['Resume'] = resume_df['Resume'].str.lower()\n",
    "resume_df['Resume'] = resume_df['Resume'].str.replace(r'[^a-zA-z\\s]', '', regex=True)\n",
    "resume_df['Resume'] = resume_df['Resume'].str.strip().replace(r'\\s', ' ', regex=True)\n",
    "\n",
    "# Remove stopwords\n",
    "nltk.download('stopwords')\n",
    "stop_words = set(nltk.corpus.stopwords.words('english'))\n",
    "resume_df['Resume'] = resume_df['Resume'].apply(lambda x: ' '.join([word for word in x.split() if word not in stop_words]))\n",
    "\n",
    "resume_df"
   ]
  },
  {
   "cell_type": "markdown",
   "metadata": {
    "id": "2vSqq0Qkd4uc"
   },
   "source": [
    "## Model (initial idea)\n",
    "#### Step 1\n",
    "feed cleaned input resume into a model (such as a neural network) trained on the dataset above, which classifies resumes into a category (e.g., Data Science).\n",
    "#### Step 2\n",
    "If input resume matches the user-specified category, compare the resume to the job description by searching for key words/skills. If the similarity (e.g., cosine similarity) between the resume and job description is above a certain threshold, assign the resume as 'passable'. In all other cases, assign the resume as 'not passable'.\n",
    "#### Extra\n",
    "Maybe we can allow the user to feed in a batch of submitted resumes for a job description, where the code would return a small subset of resumes accepted for interviews. These accepted resumes must have a matching category (assigned by the NN model) to the job description, and must also be the top-performers in terms of cosine similarity to the job description."
   ]
  },
  {
   "cell_type": "code",
   "execution_count": 6,
   "metadata": {
    "id": "v__3p2QBeBn4"
   },
   "outputs": [],
   "source": [
    "# Additional imports\n",
    "\n",
    "# !pip install PyPDF2\n",
    "# !pip install gradio-pdf\n",
    "\n",
    "from sklearn.preprocessing import LabelEncoder\n",
    "from tensorflow.keras.utils import to_categorical\n",
    "from sklearn.feature_extraction.text import TfidfVectorizer\n",
    "from sklearn.model_selection import train_test_split\n",
    "from tensorflow.keras.models import Sequential\n",
    "from tensorflow.keras.layers import Input, Dense, Dropout\n",
    "import PyPDF2\n",
    "from gradio_pdf import PDF\n",
    "import re\n",
    "import joblib\n",
    "import os"
   ]
  },
  {
   "cell_type": "code",
   "execution_count": 7,
   "metadata": {
    "colab": {
     "base_uri": "https://localhost:8080/"
    },
    "id": "dt4niMhE9hL2",
    "outputId": "ecab9382-b93d-4ddc-ce26-8752c28b7537"
   },
   "outputs": [
    {
     "data": {
      "text/plain": [
       "array([[0., 0., 0., ..., 0., 0., 0.],\n",
       "       [0., 0., 0., ..., 0., 0., 0.],\n",
       "       [0., 0., 0., ..., 0., 0., 0.],\n",
       "       ...,\n",
       "       [0., 0., 0., ..., 0., 1., 0.],\n",
       "       [0., 0., 0., ..., 0., 1., 0.],\n",
       "       [0., 0., 0., ..., 0., 1., 0.]])"
      ]
     },
     "execution_count": 7,
     "metadata": {},
     "output_type": "execute_result"
    }
   ],
   "source": [
    "# Encode labels\n",
    "resume_df_encoded = resume_df.copy()\n",
    "label_encoder = LabelEncoder()\n",
    "resume_df_encoded['Category'] = label_encoder.fit_transform(resume_df_encoded['Category'])\n",
    "Y = to_categorical(resume_df_encoded['Category'])\n",
    "Y"
   ]
  },
  {
   "cell_type": "code",
   "execution_count": 8,
   "metadata": {
    "colab": {
     "base_uri": "https://localhost:8080/"
    },
    "id": "1CNwFFJV-6mP",
    "outputId": "a2b39ad9-48d5-44f1-bb3d-d47b19094af2"
   },
   "outputs": [
    {
     "data": {
      "text/plain": [
       "array([[0., 0., 0., ..., 0., 0., 0.],\n",
       "       [0., 0., 0., ..., 0., 0., 0.],\n",
       "       [0., 0., 0., ..., 0., 0., 0.],\n",
       "       ...,\n",
       "       [0., 0., 0., ..., 0., 0., 0.],\n",
       "       [0., 0., 0., ..., 0., 0., 0.],\n",
       "       [0., 0., 0., ..., 0., 0., 0.]])"
      ]
     },
     "execution_count": 8,
     "metadata": {},
     "output_type": "execute_result"
    }
   ],
   "source": [
    "# Extract features from text in Resume column\n",
    "tfidf = TfidfVectorizer(max_features=5000) # limit number of features to the top 5000 words with the highest TF-IDF scores across the dataset\n",
    "X = tfidf.fit_transform(resume_df_encoded['Resume']).toarray() # assign weights to words based on their frequency in a resume and rarity across all resumes\n",
    "X # each row represents a resume, and each column represets a word's TF-IDF score; there are 5000 columns, each representing one of the top 5000 most important words"
   ]
  },
  {
   "cell_type": "code",
   "execution_count": 9,
   "metadata": {
    "colab": {
     "base_uri": "https://localhost:8080/"
    },
    "id": "LhUxtIrP_T0N",
    "outputId": "d3e75a74-febd-4f81-c58d-e0df0d0d85a9"
   },
   "outputs": [
    {
     "data": {
      "text/plain": [
       "((673, 5000), (673, 25), (144, 5000), (144, 25), (145, 5000), (145, 25))"
      ]
     },
     "execution_count": 9,
     "metadata": {},
     "output_type": "execute_result"
    }
   ],
   "source": [
    "# Split data into 70% training, 15% val, 15% test\n",
    "X_train, X_val, Y_train, Y_val = train_test_split(X, Y, test_size=0.3, random_state=13)\n",
    "X_val, X_test, Y_val, Y_test = train_test_split(X_val, Y_val, test_size=0.5, random_state=13)\n",
    "X_train.shape, Y_train.shape, X_val.shape, Y_val.shape, X_test.shape, Y_test.shape"
   ]
  },
  {
   "cell_type": "code",
   "execution_count": 10,
   "metadata": {
    "colab": {
     "base_uri": "https://localhost:8080/"
    },
    "id": "Xfzx5RfpBC4r",
    "outputId": "6354edb3-d5f5-4d75-ce49-f6f901097b2d"
   },
   "outputs": [
    {
     "name": "stdout",
     "output_type": "stream",
     "text": [
      "Epoch 1/5\n",
      "\u001b[1m43/43\u001b[0m \u001b[32m━━━━━━━━━━━━━━━━━━━━\u001b[0m\u001b[37m\u001b[0m \u001b[1m3s\u001b[0m 23ms/step - accuracy: 0.1598 - loss: 3.1402 - val_accuracy: 0.3958 - val_loss: 2.2783\n",
      "Epoch 2/5\n",
      "\u001b[1m43/43\u001b[0m \u001b[32m━━━━━━━━━━━━━━━━━━━━\u001b[0m\u001b[37m\u001b[0m \u001b[1m1s\u001b[0m 14ms/step - accuracy: 0.5524 - loss: 1.8160 - val_accuracy: 0.9722 - val_loss: 0.3778\n",
      "Epoch 3/5\n",
      "\u001b[1m43/43\u001b[0m \u001b[32m━━━━━━━━━━━━━━━━━━━━\u001b[0m\u001b[37m\u001b[0m \u001b[1m1s\u001b[0m 19ms/step - accuracy: 0.9569 - loss: 0.3336 - val_accuracy: 0.9931 - val_loss: 0.0491\n",
      "Epoch 4/5\n",
      "\u001b[1m43/43\u001b[0m \u001b[32m━━━━━━━━━━━━━━━━━━━━\u001b[0m\u001b[37m\u001b[0m \u001b[1m1s\u001b[0m 19ms/step - accuracy: 0.9958 - loss: 0.0662 - val_accuracy: 0.9931 - val_loss: 0.0335\n",
      "Epoch 5/5\n",
      "\u001b[1m43/43\u001b[0m \u001b[32m━━━━━━━━━━━━━━━━━━━━\u001b[0m\u001b[37m\u001b[0m \u001b[1m1s\u001b[0m 15ms/step - accuracy: 1.0000 - loss: 0.0255 - val_accuracy: 0.9931 - val_loss: 0.0289\n",
      "\u001b[1m5/5\u001b[0m \u001b[32m━━━━━━━━━━━━━━━━━━━━\u001b[0m\u001b[37m\u001b[0m \u001b[1m0s\u001b[0m 5ms/step - accuracy: 0.9941 - loss: 0.0607  \n",
      "Test Accuracy: 0.9862068891525269, Test Loss: 0.08421076089143753\n"
     ]
    }
   ],
   "source": [
    "model_path = '/model.pkl'\n",
    "\n",
    "# Train model if it hasn't already been trained and saved\n",
    "if not(os.path.exists(model_path)):\n",
    "  # Feed data into NN\n",
    "  model = Sequential([\n",
    "      Input(shape=(X.shape[1],)),\n",
    "      Dense(512, activation='relu'),\n",
    "      Dropout(0.3),\n",
    "      Dense(256, activation='relu'),\n",
    "      Dropout(0.3),\n",
    "      Dense(128, activation='relu'),\n",
    "      Dropout(0.3),\n",
    "      Dense(Y.shape[1], activation='softmax')\n",
    "  ])\n",
    "  model.compile(optimizer='adam', loss='categorical_crossentropy', metrics=['accuracy'])\n",
    "  history = model.fit(X_train, Y_train, validation_data=(X_val, Y_val), epochs=5, batch_size=16, verbose=True)\n",
    "  joblib.dump(model, 'model.pkl')\n",
    "else:\n",
    "  model = joblib.load('model.pkl')\n",
    "\n",
    "test_loss, test_accuracy = model.evaluate(X_test, Y_test)\n",
    "print(f\"Test Accuracy: {test_accuracy}, Test Loss: {test_loss}\")"
   ]
  },
  {
   "cell_type": "code",
   "execution_count": 11,
   "metadata": {
    "colab": {
     "base_uri": "https://localhost:8080/"
    },
    "id": "ph2D2wKTXgIp",
    "outputId": "196bf41d-d99f-4819-9140-767d0356c3d0"
   },
   "outputs": [
    {
     "name": "stdout",
     "output_type": "stream",
     "text": [
      "\u001b[1m1/1\u001b[0m \u001b[32m━━━━━━━━━━━━━━━━━━━━\u001b[0m\u001b[37m\u001b[0m \u001b[1m0s\u001b[0m 76ms/step\n",
      "Random Resume 1:\n",
      "--Predicted = Java Developer\n",
      "--True = Java Developer\n",
      "Random Resume 2:\n",
      "--Predicted = DevOps Engineer\n",
      "--True = DevOps Engineer\n",
      "Random Resume 3:\n",
      "--Predicted = Mechanical Engineer\n",
      "--True = Mechanical Engineer\n",
      "Random Resume 4:\n",
      "--Predicted = Blockchain\n",
      "--True = Blockchain\n",
      "Random Resume 5:\n",
      "--Predicted = Testing\n",
      "--True = Testing\n"
     ]
    }
   ],
   "source": [
    "# Show prediction results of some random samples\n",
    "random_indices = np.random.choice(X.shape[0], size=5, replace=False) # SRSWOR of 5 random row indices\n",
    "sample_X = X[random_indices]\n",
    "sample_Y = Y[random_indices]\n",
    "predictions = model.predict(sample_X)\n",
    "predicted_labels = label_encoder.inverse_transform(np.argmax(predictions, axis=1))\n",
    "true_labels = label_encoder.inverse_transform(np.argmax(sample_Y, axis=1))\n",
    "for i in range(5):\n",
    "    print(f\"Random Resume {i+1}:\\n--Predicted = {predicted_labels[i]}\\n--True = {true_labels[i]}\")"
   ]
  },
  {
   "cell_type": "markdown",
   "metadata": {
    "id": "sGHwTUb4DbQ6"
   },
   "source": [
    "## Testing Input"
   ]
  },
  {
   "cell_type": "code",
   "execution_count": 12,
   "metadata": {
    "id": "K4Pe4nQ8d5Fu"
   },
   "outputs": [],
   "source": [
    "# # Import PDF of some random resume\n",
    "# print(\"Select a resume to categorize:\")\n",
    "# upload = files.upload()\n",
    "# file_path = list(upload.keys())[0]\n",
    "# reader = PyPDF2.PdfReader(file_path)"
   ]
  },
  {
   "cell_type": "code",
   "execution_count": 13,
   "metadata": {
    "id": "adJQx-GGiHed"
   },
   "outputs": [],
   "source": [
    "# # nltk.download('stopwords')\n",
    "# # stop_words = set(nltk.corpus.stopwords.words('english'))\n",
    "\n",
    "# def evaluate_pdf(reader):\n",
    "#   # Read resume text\n",
    "#   resume_text = ''\n",
    "#   for page in range(len(reader.pages)):\n",
    "#       text = reader.pages[page].extract_text()\n",
    "#       resume_text += text\n",
    "#   # print(\"Resume text (original):\\n\", resume_text)\n",
    "\n",
    "#   # Clean text (done in the same way as above in the Dataset section)\n",
    "#   resume_text = resume_text.lower()\n",
    "#   resume_text = re.sub(r'[^a-zA-z\\s]', '', resume_text)\n",
    "#   resume_text = re.sub(r'\\s', ' ', resume_text).strip()\n",
    "\n",
    "#   resume_text = ' '.join([word for word in resume_text.split() if word not in stop_words])\n",
    "#   # print(\"\\nResume text (cleaned):\\n\", resume_text)\n",
    "\n",
    "#   # Categorize resume using the model\n",
    "#   resume_text = tfidf.transform([resume_text]).toarray()\n",
    "#   prediction = model.predict(resume_text)\n",
    "#   predicted_label = label_encoder.inverse_transform(np.argmax(prediction, axis=1))\n",
    "#   # print(f\"\\nImported Resume:\\n--Predicted = {predicted_label}\")\n",
    "#   return predicted_label[0]\n",
    "# evaluate_pdf(reader)\n"
   ]
  },
  {
   "cell_type": "markdown",
   "metadata": {
    "id": "gbj4tBBwDkBI"
   },
   "source": [
    "## Gradio App"
   ]
  },
  {
   "cell_type": "code",
   "execution_count": 16,
   "metadata": {
    "id": "bTxV9iFpWsQA"
   },
   "outputs": [],
   "source": [
    "import requests  # Add this import if not present\n",
    "\n",
    "def evaluate_resume(resume_file_path):\n",
    "    resume_text = \"\"\n",
    "    with fitz.open(resume_file_path) as resume:\n",
    "        if resume.page_count == 0:\n",
    "            return \"PDF has no pages or could not be opened.\"\n",
    "\n",
    "        for page_num in range(resume.page_count):\n",
    "            page = resume[page_num]\n",
    "            resume_text += page.get_text(\"text\")  # Extract text from each page\n",
    "    resume_text = resume_text.lower()\n",
    "    resume_text = re.sub(r'[^a-zA-z\\s]', '', resume_text)\n",
    "    resume_text = re.sub(r'\\s', ' ', resume_text).strip()\n",
    "    resume_text = ' '.join([word for word in resume_text.split() if word not in stop_words])\n",
    "\n",
    "    # Categorize resume using the model\n",
    "    resume_text = tfidf.transform([resume_text]).toarray()\n",
    "    prediction = model.predict(resume_text)\n",
    "    predicted_label = label_encoder.inverse_transform(np.argmax(prediction, axis=1))\n",
    "\n",
    "    # Send data to the Django backend (optional, remove if not needed)\n",
    "    # If you want to send a name, extract it or pass as argument\n",
    "    # name = \"Unknown\"  # Placeholder\n",
    "    # url = \"http://127.0.0.1:7860/save-input/\"\n",
    "    # data = {'name': name}\n",
    "    # try:\n",
    "    #     response = requests.post(url, json=data)\n",
    "    #     if response.status_code == 200:\n",
    "    #         return f\"Hello, {name}! (Saved to database)\"\n",
    "    #     else:\n",
    "    #         return f\"Error: {response.json().get('error', 'Unknown error')}\"\n",
    "    # except requests.exceptions.RequestException as e:\n",
    "    #     return f\"Server error: {e}\"\n",
    "\n",
    "    return predicted_label[0]"
   ]
  },
  {
   "cell_type": "code",
   "execution_count": 17,
   "metadata": {
    "colab": {
     "base_uri": "https://localhost:8080/",
     "height": 715
    },
    "id": "NG429NOqR2Vo",
    "outputId": "e12a4b0e-9207-4a97-9d02-4ef37c62b7eb"
   },
   "outputs": [
    {
     "name": "stderr",
     "output_type": "stream",
     "text": [
      "C:\\Users\\bchan\\AppData\\Local\\Packages\\PythonSoftwareFoundation.Python.3.11_qbz5n2kfra8p0\\LocalCache\\local-packages\\Python311\\site-packages\\gradio\\analytics.py:106: UserWarning: IMPORTANT: You are using gradio version 4.39.0, however version 4.44.1 is available, please upgrade. \n",
      "--------\n",
      "  warnings.warn(\n"
     ]
    },
    {
     "name": "stdout",
     "output_type": "stream",
     "text": [
      "Running on local URL:  http://127.0.0.1:7860\n",
      "\n",
      "To create a public link, set `share=True` in `launch()`.\n"
     ]
    },
    {
     "data": {
      "text/html": [
       "<div><iframe src=\"http://127.0.0.1:7860/\" width=\"100%\" height=\"500\" allow=\"autoplay; camera; microphone; clipboard-read; clipboard-write;\" frameborder=\"0\" allowfullscreen></iframe></div>"
      ],
      "text/plain": [
       "<IPython.core.display.HTML object>"
      ]
     },
     "metadata": {},
     "output_type": "display_data"
    },
    {
     "name": "stdout",
     "output_type": "stream",
     "text": [
      "\u001b[1m1/1\u001b[0m \u001b[32m━━━━━━━━━━━━━━━━━━━━\u001b[0m\u001b[37m\u001b[0m \u001b[1m0s\u001b[0m 210ms/step\n",
      "\u001b[1m1/1\u001b[0m \u001b[32m━━━━━━━━━━━━━━━━━━━━\u001b[0m\u001b[37m\u001b[0m \u001b[1m0s\u001b[0m 57ms/step\n",
      "\u001b[1m1/1\u001b[0m \u001b[32m━━━━━━━━━━━━━━━━━━━━\u001b[0m\u001b[37m\u001b[0m \u001b[1m0s\u001b[0m 55ms/step\n",
      "Keyboard interruption in main thread... closing server.\n"
     ]
    },
    {
     "data": {
      "text/plain": []
     },
     "execution_count": 17,
     "metadata": {},
     "output_type": "execute_result"
    }
   ],
   "source": [
    "import gradio\n",
    "demo = gradio.Interface(\n",
    "    fn=evaluate_resume,\n",
    "    inputs=[PDF(label=\"Document\")],\n",
    "    outputs= [gradio.Textbox(label=\"Classification Prediction\")],\n",
    "    title=\"Resume Classifier\"\n",
    ")\n",
    "demo.launch(debug=True)"
   ]
  }
 ],
 "metadata": {
  "colab": {
   "collapsed_sections": [
    "sGHwTUb4DbQ6"
   ],
   "provenance": []
  },
  "kernelspec": {
   "display_name": "Python 3",
   "name": "python3"
  },
  "language_info": {
   "codemirror_mode": {
    "name": "ipython",
    "version": 3
   },
   "file_extension": ".py",
   "mimetype": "text/x-python",
   "name": "python",
   "nbconvert_exporter": "python",
   "pygments_lexer": "ipython3",
   "version": "3.11.9"
  }
 },
 "nbformat": 4,
 "nbformat_minor": 0
}
